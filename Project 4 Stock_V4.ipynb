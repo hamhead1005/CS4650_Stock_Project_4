{
 "cells": [
  {
   "cell_type": "markdown",
   "id": "dcc5a2d9",
   "metadata": {},
   "source": [
    "# Overall Strategy\n",
    "- Use newsAPI to find companies that are trending (week 1)\n",
    "- Use kaggle dataset to find patterns in stock trades (week 2)\n",
    "- Use fmpCloud API to calculate P/E to determine if stock has future potential Long term investment(week 3)\n",
    "- Combine all strategies to make estimates on stocks that should be invested in.\n",
    "    - Strategies that proved more sucessful in the end will have more weight\n",
    "\n",
    "*notes: using NASDAQ*\n",
    "\n",
    "### Week 1\n",
    "\n",
    "- NewsApi will search for articles that include the stock ticker\n",
    "- Based on article count we know which companies are being talked about more\n",
    "    - Hopefully in a good way (Will hopefully adjust for this later)\n",
    "- Using top 50 Companies based on Market Cap\n",
    "- Output includes company name + Article count\n",
    "- Based on this we can invest in the companies being talked about the most."
   ]
  },
  {
   "cell_type": "code",
   "execution_count": 1,
   "id": "16d080bd",
   "metadata": {
    "scrolled": true
   },
   "outputs": [
    {
     "name": "stdout",
     "output_type": "stream",
     "text": [
      "Requirement already satisfied: spacy in c:\\users\\abrah\\anaconda3\\lib\\site-packages (3.2.0)\n",
      "Requirement already satisfied: thinc<8.1.0,>=8.0.12 in c:\\users\\abrah\\anaconda3\\lib\\site-packages (from spacy) (8.0.13)\n",
      "Requirement already satisfied: setuptools in c:\\users\\abrah\\anaconda3\\lib\\site-packages (from spacy) (52.0.0.post20210125)\n",
      "Requirement already satisfied: requests<3.0.0,>=2.13.0 in c:\\users\\abrah\\anaconda3\\lib\\site-packages (from spacy) (2.25.1)\n",
      "Requirement already satisfied: pydantic!=1.8,!=1.8.1,<1.9.0,>=1.7.4 in c:\\users\\abrah\\anaconda3\\lib\\site-packages (from spacy) (1.8.2)\n",
      "Requirement already satisfied: catalogue<2.1.0,>=2.0.6 in c:\\users\\abrah\\anaconda3\\lib\\site-packages (from spacy) (2.0.6)\n",
      "Requirement already satisfied: packaging>=20.0 in c:\\users\\abrah\\anaconda3\\lib\\site-packages (from spacy) (20.9)\n",
      "Requirement already satisfied: murmurhash<1.1.0,>=0.28.0 in c:\\users\\abrah\\anaconda3\\lib\\site-packages (from spacy) (1.0.6)\n",
      "Requirement already satisfied: numpy>=1.15.0 in c:\\users\\abrah\\anaconda3\\lib\\site-packages (from spacy) (1.20.1)\n",
      "Requirement already satisfied: tqdm<5.0.0,>=4.38.0 in c:\\users\\abrah\\anaconda3\\lib\\site-packages (from spacy) (4.59.0)\n",
      "Requirement already satisfied: srsly<3.0.0,>=2.4.1 in c:\\users\\abrah\\anaconda3\\lib\\site-packages (from spacy) (2.4.2)\n",
      "Requirement already satisfied: blis<0.8.0,>=0.4.0 in c:\\users\\abrah\\anaconda3\\lib\\site-packages (from spacy) (0.7.5)\n",
      "Requirement already satisfied: wasabi<1.1.0,>=0.8.1 in c:\\users\\abrah\\anaconda3\\lib\\site-packages (from spacy) (0.8.2)\n",
      "Requirement already satisfied: spacy-legacy<3.1.0,>=3.0.8 in c:\\users\\abrah\\anaconda3\\lib\\site-packages (from spacy) (3.0.8)\n",
      "Requirement already satisfied: preshed<3.1.0,>=3.0.2 in c:\\users\\abrah\\anaconda3\\lib\\site-packages (from spacy) (3.0.6)\n",
      "Requirement already satisfied: jinja2 in c:\\users\\abrah\\anaconda3\\lib\\site-packages (from spacy) (2.11.3)\n",
      "Requirement already satisfied: langcodes<4.0.0,>=3.2.0 in c:\\users\\abrah\\anaconda3\\lib\\site-packages (from spacy) (3.3.0)\n",
      "Requirement already satisfied: spacy-loggers<2.0.0,>=1.0.0 in c:\\users\\abrah\\anaconda3\\lib\\site-packages (from spacy) (1.0.1)\n",
      "Requirement already satisfied: typer<0.5.0,>=0.3.0 in c:\\users\\abrah\\anaconda3\\lib\\site-packages (from spacy) (0.4.0)\n",
      "Requirement already satisfied: cymem<2.1.0,>=2.0.2 in c:\\users\\abrah\\anaconda3\\lib\\site-packages (from spacy) (2.0.6)\n",
      "Requirement already satisfied: pathy>=0.3.5 in c:\\users\\abrah\\anaconda3\\lib\\site-packages (from spacy) (0.6.1)\n",
      "Requirement already satisfied: pyparsing>=2.0.2 in c:\\users\\abrah\\anaconda3\\lib\\site-packages (from packaging>=20.0->spacy) (2.4.7)\n",
      "Requirement already satisfied: smart-open<6.0.0,>=5.0.0 in c:\\users\\abrah\\anaconda3\\lib\\site-packages (from pathy>=0.3.5->spacy) (5.2.1)\n",
      "Requirement already satisfied: typing-extensions>=3.7.4.3 in c:\\users\\abrah\\anaconda3\\lib\\site-packages (from pydantic!=1.8,!=1.8.1,<1.9.0,>=1.7.4->spacy) (3.7.4.3)\n",
      "Requirement already satisfied: chardet<5,>=3.0.2 in c:\\users\\abrah\\anaconda3\\lib\\site-packages (from requests<3.0.0,>=2.13.0->spacy) (4.0.0)\n",
      "Requirement already satisfied: urllib3<1.27,>=1.21.1 in c:\\users\\abrah\\anaconda3\\lib\\site-packages (from requests<3.0.0,>=2.13.0->spacy) (1.26.4)\n",
      "Requirement already satisfied: idna<3,>=2.5 in c:\\users\\abrah\\anaconda3\\lib\\site-packages (from requests<3.0.0,>=2.13.0->spacy) (2.10)\n",
      "Requirement already satisfied: certifi>=2017.4.17 in c:\\users\\abrah\\anaconda3\\lib\\site-packages (from requests<3.0.0,>=2.13.0->spacy) (2020.12.5)\n",
      "Requirement already satisfied: click<9.0.0,>=7.1.1 in c:\\users\\abrah\\anaconda3\\lib\\site-packages (from typer<0.5.0,>=0.3.0->spacy) (7.1.2)\n",
      "Requirement already satisfied: MarkupSafe>=0.23 in c:\\users\\abrah\\anaconda3\\lib\\site-packages (from jinja2->spacy) (1.1.1)\n",
      "Requirement already satisfied: newsapi-python in c:\\users\\abrah\\anaconda3\\lib\\site-packages (0.2.6)\n",
      "Requirement already satisfied: requests<3.0.0 in c:\\users\\abrah\\anaconda3\\lib\\site-packages (from newsapi-python) (2.25.1)\n",
      "Requirement already satisfied: chardet<5,>=3.0.2 in c:\\users\\abrah\\anaconda3\\lib\\site-packages (from requests<3.0.0->newsapi-python) (4.0.0)\n",
      "Requirement already satisfied: urllib3<1.27,>=1.21.1 in c:\\users\\abrah\\anaconda3\\lib\\site-packages (from requests<3.0.0->newsapi-python) (1.26.4)\n",
      "Requirement already satisfied: idna<3,>=2.5 in c:\\users\\abrah\\anaconda3\\lib\\site-packages (from requests<3.0.0->newsapi-python) (2.10)\n",
      "Requirement already satisfied: certifi>=2017.4.17 in c:\\users\\abrah\\anaconda3\\lib\\site-packages (from requests<3.0.0->newsapi-python) (2020.12.5)\n",
      "Requirement already satisfied: fsspec in c:\\users\\abrah\\anaconda3\\lib\\site-packages (0.9.0)\n",
      "Requirement already satisfied: pandas_datareader in c:\\users\\abrah\\anaconda3\\lib\\site-packages (0.10.0)\n",
      "Requirement already satisfied: lxml in c:\\users\\abrah\\anaconda3\\lib\\site-packages (from pandas_datareader) (4.6.3)\n",
      "Requirement already satisfied: pandas>=0.23 in c:\\users\\abrah\\anaconda3\\lib\\site-packages (from pandas_datareader) (1.2.4)\n",
      "Requirement already satisfied: requests>=2.19.0 in c:\\users\\abrah\\anaconda3\\lib\\site-packages (from pandas_datareader) (2.25.1)\n",
      "Requirement already satisfied: numpy>=1.16.5 in c:\\users\\abrah\\anaconda3\\lib\\site-packages (from pandas>=0.23->pandas_datareader) (1.20.1)\n",
      "Requirement already satisfied: pytz>=2017.3 in c:\\users\\abrah\\anaconda3\\lib\\site-packages (from pandas>=0.23->pandas_datareader) (2021.1)\n",
      "Requirement already satisfied: python-dateutil>=2.7.3 in c:\\users\\abrah\\anaconda3\\lib\\site-packages (from pandas>=0.23->pandas_datareader) (2.8.1)\n",
      "Requirement already satisfied: six>=1.5 in c:\\users\\abrah\\anaconda3\\lib\\site-packages (from python-dateutil>=2.7.3->pandas>=0.23->pandas_datareader) (1.15.0)\n",
      "Requirement already satisfied: idna<3,>=2.5 in c:\\users\\abrah\\anaconda3\\lib\\site-packages (from requests>=2.19.0->pandas_datareader) (2.10)\n",
      "Requirement already satisfied: urllib3<1.27,>=1.21.1 in c:\\users\\abrah\\anaconda3\\lib\\site-packages (from requests>=2.19.0->pandas_datareader) (1.26.4)\n",
      "Requirement already satisfied: certifi>=2017.4.17 in c:\\users\\abrah\\anaconda3\\lib\\site-packages (from requests>=2.19.0->pandas_datareader) (2020.12.5)\n",
      "Requirement already satisfied: chardet<5,>=3.0.2 in c:\\users\\abrah\\anaconda3\\lib\\site-packages (from requests>=2.19.0->pandas_datareader) (4.0.0)\n"
     ]
    }
   ],
   "source": [
    "!pip install spacy\n",
    "!pip install newsapi-python\n",
    "!pip install fsspec\n",
    "!pip install pandas_datareader"
   ]
  },
  {
   "cell_type": "code",
   "execution_count": 2,
   "id": "cb700ef8",
   "metadata": {},
   "outputs": [],
   "source": [
    "#import libraries\n",
    "from newsapi import NewsApiClient\n",
    "import pandas as pd\n",
    "import json\n",
    "import csv\n",
    "\n",
    "# top 50 traded Companies by Market CAP\n",
    "# Limited to 50 since API only allows 100 request perday with free account\n",
    "companies = ['Apple','Microsoft','Google','Alphabet','Amazon','Tesla','Facebook','Nvidia','Taiwan Semiconductor','JP Morgan',\n",
    "             'Visa','Home Depot','Johnson & Johnson','United Health','ADI','Bank of America','Walmart','Alibaba','GameStop','Procter & Gamble',\n",
    "             'Mastercard','Adobe','Netflix','NTES','CRM','Pfizer','Disney','Nike','Exxon','Novo',\n",
    "             'Oracle','Toyota','Thermo','Eli Lilly','Comcast','Coca-Cola','AMC','Paypal','Rivian','Costco',\n",
    "             'Cisco','PEPSI','Abbott Laboratories','Danaher','Chevron','Verizon','Shopify','Merck & Company','Qualcomm','AbbVie']\n",
    "\n",
    "#Used for testing (ignore)\n",
    "test_companies = ['AAPL','PEPSI','TSLA']\n",
    "\n",
    "#Init\n",
    "newsapi = NewsApiClient(api_key='3eaeabeef28c459d96502d7c196ac421')"
   ]
  },
  {
   "cell_type": "code",
   "execution_count": 4,
   "id": "f14e665b",
   "metadata": {
    "scrolled": true
   },
   "outputs": [
    {
     "name": "stdout",
     "output_type": "stream",
     "text": [
      "                 company  results\n",
      "0                  Apple      245\n",
      "1              Microsoft      169\n",
      "2                 Google      196\n",
      "3               Alphabet       63\n",
      "4                 Amazon      175\n",
      "5                  Tesla      169\n",
      "6               Facebook      422\n",
      "7                 Nvidia      135\n",
      "8   Taiwan Semiconductor        7\n",
      "9              JP Morgan       25\n",
      "10                  Visa       26\n",
      "11            Home Depot        7\n",
      "12     Johnson & Johnson       82\n",
      "13         United Health      191\n",
      "14                   ADI       10\n",
      "15       Bank of America       95\n",
      "16               Walmart       33\n",
      "17               Alibaba      104\n",
      "18              GameStop       51\n",
      "19      Procter & Gamble       12\n",
      "20            Mastercard       25\n",
      "21                 Adobe       26\n",
      "22               Netflix       48\n",
      "23                  NTES        4\n",
      "24                   CRM       22\n",
      "25                Pfizer      146\n",
      "26                Disney       25\n",
      "27                  Nike       20\n",
      "28                 Exxon       15\n",
      "29                  Novo       20\n",
      "30                Oracle       28\n",
      "31                Toyota       27\n",
      "32                Thermo       15\n",
      "33             Eli Lilly        7\n",
      "34               Comcast       14\n",
      "35             Coca-Cola        8\n",
      "36                   AMC       24\n",
      "37                Paypal       38\n",
      "38                Rivian       50\n",
      "39                Costco       16\n",
      "40                 Cisco       21\n",
      "41                 PEPSI        3\n",
      "42   Abbott Laboratories        4\n",
      "43               Danaher        4\n",
      "44               Chevron       24\n",
      "45               Verizon       27\n",
      "46               Shopify       15\n",
      "47       Merck & Company       36\n",
      "48              Qualcomm       25\n",
      "49                AbbVie       17\n"
     ]
    }
   ],
   "source": [
    "article_results = []\n",
    "\n",
    "for x in range(50):\n",
    "    #used to filter searches that mention the stock market in realtion to company\n",
    "    q = companies[x]+' NASDAQ'\n",
    "    data = newsapi.get_everything(q=q,from_param='2021-12-02',\n",
    "                                      to='2021-12-09', language='en', page_size=0) #Change Dates\n",
    "    article_results.append(data['totalResults'])\n",
    "\n",
    "list_of_results = list(zip(companies, article_results))\n",
    "df = pd.DataFrame(list_of_results, columns = ['company','results'])\n",
    "df.sort_values('results')\n",
    "print(df)"
   ]
  },
  {
   "cell_type": "code",
   "execution_count": 5,
   "id": "85244c2b",
   "metadata": {},
   "outputs": [],
   "source": [
    "df.to_excel(\"output.xlsx\")"
   ]
  },
  {
   "attachments": {
    "image.png": {
     "image/png": "[encoded data removed]"
    }
   },
   "cell_type": "markdown",
   "id": "a24d93f9",
   "metadata": {},
   "source": [
    "# Results from Day 1\n",
    " I ajdusted the names to be the full name. Just using the stock ticker name produced very little results for some. And some tickers produced un-realted results\n",
    "\n",
    "# List\n",
    "![image.png](attachment:image.png)\n",
    "\n",
    "\n",
    "### Stock Buys\n",
    "- Facebook had the most hits with 1999 \n",
    "    - Bought 30k shares 11/18/21 (Pre-market)\n",
    "- Tesla had 2 most with 1183\n",
    "    - Bought 20k shares 11/18/21 (Pre-Market)\n",
    "- United Health was 3rd with 1041\n",
    "    - Bought 10k shares 11/18/21 (Pre-Market)"
   ]
  },
  {
   "cell_type": "markdown",
   "id": "9542f919",
   "metadata": {},
   "source": [
    "## Results after day 1\n",
    "- My total gain is 2.58"
   ]
  },
  {
   "cell_type": "markdown",
   "id": "9b3e7071",
   "metadata": {},
   "source": [
    "# Week 2\n",
    "## Data Prediciton\n",
    "- making preditions based on real data\n",
    "- making prediction on closing price\n",
    "\n",
    "### Strategy\n",
    "- Check the predicted Next day price for Companies I am invested in\n",
    "- Check companies that look of interest"
   ]
  },
  {
   "cell_type": "code",
   "execution_count": 6,
   "id": "13a9ab80",
   "metadata": {
    "scrolled": true
   },
   "outputs": [
    {
     "name": "stdout",
     "output_type": "stream",
     "text": [
      "Requirement already satisfied: tensorflow in c:\\users\\abrah\\anaconda3\\lib\\site-packages (2.7.0)\n",
      "Requirement already satisfied: libclang>=9.0.1 in c:\\users\\abrah\\anaconda3\\lib\\site-packages (from tensorflow) (12.0.0)\n",
      "Requirement already satisfied: keras<2.8,>=2.7.0rc0 in c:\\users\\abrah\\anaconda3\\lib\\site-packages (from tensorflow) (2.7.0)\n",
      "Requirement already satisfied: astunparse>=1.6.0 in c:\\users\\abrah\\anaconda3\\lib\\site-packages (from tensorflow) (1.6.3)\n",
      "Requirement already satisfied: termcolor>=1.1.0 in c:\\users\\abrah\\anaconda3\\lib\\site-packages (from tensorflow) (1.1.0)\n",
      "Requirement already satisfied: wrapt>=1.11.0 in c:\\users\\abrah\\anaconda3\\lib\\site-packages (from tensorflow) (1.12.1)\n",
      "Requirement already satisfied: tensorboard~=2.6 in c:\\users\\abrah\\anaconda3\\lib\\site-packages (from tensorflow) (2.7.0)\n",
      "Requirement already satisfied: typing-extensions>=3.6.6 in c:\\users\\abrah\\anaconda3\\lib\\site-packages (from tensorflow) (3.7.4.3)\n",
      "Requirement already satisfied: gast<0.5.0,>=0.2.1 in c:\\users\\abrah\\anaconda3\\lib\\site-packages (from tensorflow) (0.4.0)\n",
      "Requirement already satisfied: tensorflow-io-gcs-filesystem>=0.21.0 in c:\\users\\abrah\\anaconda3\\lib\\site-packages (from tensorflow) (0.22.0)\n",
      "Requirement already satisfied: numpy>=1.14.5 in c:\\users\\abrah\\anaconda3\\lib\\site-packages (from tensorflow) (1.20.1)\n",
      "Requirement already satisfied: h5py>=2.9.0 in c:\\users\\abrah\\anaconda3\\lib\\site-packages (from tensorflow) (2.10.0)\n",
      "Requirement already satisfied: protobuf>=3.9.2 in c:\\users\\abrah\\anaconda3\\lib\\site-packages (from tensorflow) (3.19.1)\n",
      "Requirement already satisfied: absl-py>=0.4.0 in c:\\users\\abrah\\anaconda3\\lib\\site-packages (from tensorflow) (1.0.0)\n",
      "Requirement already satisfied: keras-preprocessing>=1.1.1 in c:\\users\\abrah\\anaconda3\\lib\\site-packages (from tensorflow) (1.1.2)\n",
      "Requirement already satisfied: tensorflow-estimator<2.8,~=2.7.0rc0 in c:\\users\\abrah\\anaconda3\\lib\\site-packages (from tensorflow) (2.7.0)\n",
      "Requirement already satisfied: flatbuffers<3.0,>=1.12 in c:\\users\\abrah\\anaconda3\\lib\\site-packages (from tensorflow) (2.0)\n",
      "Requirement already satisfied: google-pasta>=0.1.1 in c:\\users\\abrah\\anaconda3\\lib\\site-packages (from tensorflow) (0.2.0)\n",
      "Requirement already satisfied: grpcio<2.0,>=1.24.3 in c:\\users\\abrah\\anaconda3\\lib\\site-packages (from tensorflow) (1.42.0)\n",
      "Requirement already satisfied: wheel<1.0,>=0.32.0 in c:\\users\\abrah\\anaconda3\\lib\\site-packages (from tensorflow) (0.36.2)\n",
      "Requirement already satisfied: six>=1.12.0 in c:\\users\\abrah\\anaconda3\\lib\\site-packages (from tensorflow) (1.15.0)\n",
      "Requirement already satisfied: opt-einsum>=2.3.2 in c:\\users\\abrah\\anaconda3\\lib\\site-packages (from tensorflow) (3.3.0)\n",
      "Requirement already satisfied: tensorboard-plugin-wit>=1.6.0 in c:\\users\\abrah\\anaconda3\\lib\\site-packages (from tensorboard~=2.6->tensorflow) (1.8.0)\n",
      "Requirement already satisfied: setuptools>=41.0.0 in c:\\users\\abrah\\anaconda3\\lib\\site-packages (from tensorboard~=2.6->tensorflow) (52.0.0.post20210125)\n",
      "Requirement already satisfied: tensorboard-data-server<0.7.0,>=0.6.0 in c:\\users\\abrah\\anaconda3\\lib\\site-packages (from tensorboard~=2.6->tensorflow) (0.6.1)\n",
      "Requirement already satisfied: requests<3,>=2.21.0 in c:\\users\\abrah\\anaconda3\\lib\\site-packages (from tensorboard~=2.6->tensorflow) (2.25.1)\n",
      "Requirement already satisfied: google-auth-oauthlib<0.5,>=0.4.1 in c:\\users\\abrah\\anaconda3\\lib\\site-packages (from tensorboard~=2.6->tensorflow) (0.4.6)\n",
      "Requirement already satisfied: werkzeug>=0.11.15 in c:\\users\\abrah\\anaconda3\\lib\\site-packages (from tensorboard~=2.6->tensorflow) (1.0.1)\n",
      "Requirement already satisfied: markdown>=2.6.8 in c:\\users\\abrah\\anaconda3\\lib\\site-packages (from tensorboard~=2.6->tensorflow) (3.3.6)\n",
      "Requirement already satisfied: google-auth<3,>=1.6.3 in c:\\users\\abrah\\anaconda3\\lib\\site-packages (from tensorboard~=2.6->tensorflow) (2.3.3)\n",
      "Requirement already satisfied: cachetools<5.0,>=2.0.0 in c:\\users\\abrah\\anaconda3\\lib\\site-packages (from google-auth<3,>=1.6.3->tensorboard~=2.6->tensorflow) (4.2.4)\n",
      "Requirement already satisfied: rsa<5,>=3.1.4 in c:\\users\\abrah\\anaconda3\\lib\\site-packages (from google-auth<3,>=1.6.3->tensorboard~=2.6->tensorflow) (4.8)\n",
      "Requirement already satisfied: pyasn1-modules>=0.2.1 in c:\\users\\abrah\\anaconda3\\lib\\site-packages (from google-auth<3,>=1.6.3->tensorboard~=2.6->tensorflow) (0.2.8)\n",
      "Requirement already satisfied: requests-oauthlib>=0.7.0 in c:\\users\\abrah\\anaconda3\\lib\\site-packages (from google-auth-oauthlib<0.5,>=0.4.1->tensorboard~=2.6->tensorflow) (1.3.0)\n",
      "Requirement already satisfied: importlib-metadata>=4.4 in c:\\users\\abrah\\anaconda3\\lib\\site-packages (from markdown>=2.6.8->tensorboard~=2.6->tensorflow) (4.8.2)\n",
      "Requirement already satisfied: zipp>=0.5 in c:\\users\\abrah\\anaconda3\\lib\\site-packages (from importlib-metadata>=4.4->markdown>=2.6.8->tensorboard~=2.6->tensorflow) (3.4.1)\n",
      "Requirement already satisfied: pyasn1<0.5.0,>=0.4.6 in c:\\users\\abrah\\anaconda3\\lib\\site-packages (from pyasn1-modules>=0.2.1->google-auth<3,>=1.6.3->tensorboard~=2.6->tensorflow) (0.4.8)\n",
      "Requirement already satisfied: certifi>=2017.4.17 in c:\\users\\abrah\\anaconda3\\lib\\site-packages (from requests<3,>=2.21.0->tensorboard~=2.6->tensorflow) (2020.12.5)\n",
      "Requirement already satisfied: idna<3,>=2.5 in c:\\users\\abrah\\anaconda3\\lib\\site-packages (from requests<3,>=2.21.0->tensorboard~=2.6->tensorflow) (2.10)\n",
      "Requirement already satisfied: chardet<5,>=3.0.2 in c:\\users\\abrah\\anaconda3\\lib\\site-packages (from requests<3,>=2.21.0->tensorboard~=2.6->tensorflow) (4.0.0)\n",
      "Requirement already satisfied: urllib3<1.27,>=1.21.1 in c:\\users\\abrah\\anaconda3\\lib\\site-packages (from requests<3,>=2.21.0->tensorboard~=2.6->tensorflow) (1.26.4)\n",
      "Requirement already satisfied: oauthlib>=3.0.0 in c:\\users\\abrah\\anaconda3\\lib\\site-packages (from requests-oauthlib>=0.7.0->google-auth-oauthlib<0.5,>=0.4.1->tensorboard~=2.6->tensorflow) (3.1.1)\n"
     ]
    }
   ],
   "source": [
    "!pip install tensorflow"
   ]
  },
  {
   "cell_type": "code",
   "execution_count": 7,
   "id": "cae8c034",
   "metadata": {},
   "outputs": [],
   "source": [
    "import numpy as np\n",
    "import matplotlib.pyplot as plt\n",
    "import pandas as pd\n",
    "import pandas_datareader as web\n",
    "import datetime as dt\n",
    "import sklearn\n",
    "\n",
    "from sklearn.preprocessing import MinMaxScaler\n",
    "from tensorflow.keras.models import Sequential\n",
    "from tensorflow.keras.layers import Dense, Dropout, LSTM"
   ]
  },
  {
   "cell_type": "code",
   "execution_count": 63,
   "id": "91b51af6",
   "metadata": {},
   "outputs": [],
   "source": [
    "#Load data\n",
    "company = 'AAPL'\n",
    "start = dt.datetime(2018,1,1)\n",
    "end = dt.datetime(2021,1,1)\n",
    "\n",
    "data = web.DataReader(company, 'yahoo', start, end) #Load from yahoo finance database"
   ]
  },
  {
   "cell_type": "code",
   "execution_count": 64,
   "id": "dc992750",
   "metadata": {},
   "outputs": [],
   "source": [
    "#prepare data\n",
    "scaler = MinMaxScaler(feature_range=(0,1))\n",
    "scaled_data = scaler.fit_transform(data['Close'].values.reshape(-1,1))\n",
    "\n",
    "prediction_days = 60  #how many days we are looking back to base new predicted price on\n",
    "\n",
    "x_train = []\n",
    "y_train = []\n",
    "\n",
    "for x in range(prediction_days, len(scaled_data)):\n",
    "    x_train.append(scaled_data[x-prediction_days:x, 0])\n",
    "    y_train.append(scaled_data[x, 0])\n",
    "    \n",
    "x_train, y_train = np.array(x_train), np.array(y_train)\n",
    "x_train = np.reshape(x_train, (x_train.shape[0], x_train.shape[1],1))"
   ]
  },
  {
   "cell_type": "code",
   "execution_count": 65,
   "id": "f80e4add",
   "metadata": {
    "scrolled": false
   },
   "outputs": [
    {
     "name": "stdout",
     "output_type": "stream",
     "text": [
      "Epoch 1/20\n",
      "22/22 [==============================] - 4s 38ms/step - loss: 0.0302\n",
      "Epoch 2/20\n",
      "22/22 [==============================] - 1s 37ms/step - loss: 0.0044\n",
      "Epoch 3/20\n",
      "22/22 [==============================] - 1s 39ms/step - loss: 0.0040\n",
      "Epoch 4/20\n",
      "22/22 [==============================] - 1s 40ms/step - loss: 0.0038\n",
      "Epoch 5/20\n",
      "22/22 [==============================] - 1s 37ms/step - loss: 0.0038\n",
      "Epoch 6/20\n",
      "22/22 [==============================] - 1s 38ms/step - loss: 0.0037\n",
      "Epoch 7/20\n",
      "22/22 [==============================] - 1s 38ms/step - loss: 0.0033\n",
      "Epoch 8/20\n",
      "22/22 [==============================] - 1s 40ms/step - loss: 0.0037\n",
      "Epoch 9/20\n",
      "22/22 [==============================] - 1s 41ms/step - loss: 0.0039\n",
      "Epoch 10/20\n",
      "22/22 [==============================] - 1s 40ms/step - loss: 0.0028\n",
      "Epoch 11/20\n",
      "22/22 [==============================] - 1s 40ms/step - loss: 0.0031\n",
      "Epoch 12/20\n",
      "22/22 [==============================] - 1s 39ms/step - loss: 0.0030\n",
      "Epoch 13/20\n",
      "22/22 [==============================] - 1s 38ms/step - loss: 0.0031\n",
      "Epoch 14/20\n",
      "22/22 [==============================] - 1s 38ms/step - loss: 0.0027\n",
      "Epoch 15/20\n",
      "22/22 [==============================] - 1s 38ms/step - loss: 0.0027\n",
      "Epoch 16/20\n",
      "22/22 [==============================] - 1s 38ms/step - loss: 0.0033\n",
      "Epoch 17/20\n",
      "22/22 [==============================] - 1s 38ms/step - loss: 0.0025\n",
      "Epoch 18/20\n",
      "22/22 [==============================] - 1s 38ms/step - loss: 0.0022\n",
      "Epoch 19/20\n",
      "22/22 [==============================] - 1s 38ms/step - loss: 0.0024\n",
      "Epoch 20/20\n",
      "22/22 [==============================] - 1s 38ms/step - loss: 0.0026\n"
     ]
    },
    {
     "data": {
      "text/plain": [
       "<keras.callbacks.History at 0x1f3aaf9a5b0>"
      ]
     },
     "execution_count": 65,
     "metadata": {},
     "output_type": "execute_result"
    }
   ],
   "source": [
    "#Build Neural Network Model\n",
    "model = Sequential()\n",
    "\n",
    "model.add(LSTM(units=50, return_sequences=True, input_shape=(x_train.shape[1], 1)))\n",
    "model.add(Dropout(0.2))\n",
    "model.add(LSTM(units=50, return_sequences=True))\n",
    "model.add(Dropout(0.2))\n",
    "model.add(LSTM(units=50))\n",
    "model.add(Dropout(0.2))\n",
    "model.add(Dense(units=1)) #Prediction of the next closing price\n",
    "\n",
    "model.compile(optimizer='adam', loss='mean_squared_error')\n",
    "model.fit(x_train, y_train, epochs=20, batch_size=32)"
   ]
  },
  {
   "cell_type": "code",
   "execution_count": 66,
   "id": "c5906391",
   "metadata": {},
   "outputs": [],
   "source": [
    "#Load Test Data\n",
    "test_start=dt.datetime(2020, 1, 1)\n",
    "test_end=dt.datetime.now()\n",
    "\n",
    "test_data = web.DataReader(company, 'yahoo', test_start, test_end)\n",
    "actual_prices=test_data['Close'].values\n",
    "\n",
    "total_dataset=pd.concat((data['Close'], test_data['Close']), axis=0)\n",
    "\n",
    "model_inputs=total_dataset[len(total_dataset)-len(test_data)-prediction_days:].values\n",
    "model_inputs = model_inputs.reshape(-1, 1)\n",
    "model_inputs = scaler.transform(model_inputs)"
   ]
  },
  {
   "cell_type": "code",
   "execution_count": 67,
   "id": "f6ea0c0d",
   "metadata": {},
   "outputs": [],
   "source": [
    "# Make Predictions on Test Data\n",
    "x_test=[]\n",
    "\n",
    "for x in range(prediction_days, len(model_inputs)):\n",
    "    x_test.append(model_inputs[x-prediction_days:x, 0])\n",
    "\n",
    "x_test=np.array(x_test)\n",
    "x_test=np.reshape(x_test, (x_test.shape[0], x_test.shape[1], 1))\n",
    "\n",
    "predicted_prices=model.predict(x_test)\n",
    "predicted_prices=scaler.inverse_transform(predicted_prices)"
   ]
  },
  {
   "cell_type": "code",
   "execution_count": 68,
   "id": "f0e24d4f",
   "metadata": {
    "scrolled": true
   },
   "outputs": [
    {
     "data": {
      "image/png": "[encoded data removed]",
      "text/plain": [
       "<Figure size 432x288 with 1 Axes>"
      ]
     },
     "metadata": {
      "needs_background": "light"
     },
     "output_type": "display_data"
    }
   ],
   "source": [
    "# Plot the test predictions\n",
    "plt.plot(actual_prices, color = \"black\", label=f\"Actual {company} Price\")\n",
    "plt.plot(predicted_prices, color=\"green\", label=f\"Predicted {company} Price\")\n",
    "plt.title(f\"{company} Share Price\")\n",
    "plt.xlabel(\"Time\")\n",
    "plt.ylabel(f\"{company} Share Price\")\n",
    "plt.legend()\n",
    "plt.show()"
   ]
  },
  {
   "cell_type": "code",
   "execution_count": 69,
   "id": "207e6a30",
   "metadata": {},
   "outputs": [
    {
     "name": "stdout",
     "output_type": "stream",
     "text": [
      "Prediction: [[153.70187]]\n"
     ]
    }
   ],
   "source": [
    "#Predict Next Day\n",
    "\n",
    "real_data = [model_inputs[len(model_inputs+1)-prediction_days:len(model_inputs+1), 0]] \n",
    "real_data = np.array(real_data)\n",
    "real_data=np.reshape(real_data, (real_data.shape[0], real_data.shape[1],1))\n",
    "\n",
    "prediction=model.predict(real_data)\n",
    "prediction = scaler.inverse_transform(prediction)\n",
    "print(f\"Prediction: {prediction}\")"
   ]
  },
  {
   "cell_type": "markdown",
   "id": "f3ebf8da",
   "metadata": {},
   "source": [
    "# *Results* (11/24/21)\n",
    "## Current Portfolio\n",
    " - FB Prediction: [[325.46506]] Current: 341.06  --> Sell\n",
    " - TSLA Prediction: [[1004.28436]] Current: 1116.00 --> Sell\n",
    " - UNH Prediction: Prediction: [[442.34647]] Current: 450.16 --> Sell\n",
    " \n",
    "## New Options Based on NewsApi Stats\n",
    "- Amazon Prediction: [[3556.087]] current: 3580.41 --> no\n",
    "- Rivian N/A not enough data for model --> Buy 5k based on News API (test)\n",
    "- Walmart Prediction: [[147.09341] current: 146.54 --> Buy 20k worth of shares\n",
    "- Nvidia Prediction: [[333.25783]] current: 326.74 --> Buy 90K worth of shares\n",
    "- Facebook --> buy 10k back\n",
    "    - had unusally high results from news API"
   ]
  },
  {
   "cell_type": "markdown",
   "id": "dc88cdb2",
   "metadata": {},
   "source": [
    "# Week 3\n",
    "\n",
    "## Current Portfolio Results (12/3/21)\n",
    " - FB: Down 7.57%\n",
    " - NVDA: Down 1.45%\n",
    " - RIVN: Down 0.21%\n",
    " - WMT: Down 7.49%\n",
    " - Class Rank 7 out of 36\n",
    " \n",
    "## New Options Based on NewsApi and Closing Prediciton Model\n",
    "### Top 5 Performers\n",
    "    - FB, UNH, AAPL, AMZN, GOOG\n",
    "    - Honorable Mentions: Pfizer, Bank of America, Johnson and Johnson\n",
    "    \n",
    "### Closing Predictions\n",
    "- FB Prediction: [[330.18924]] --> current [310.39] buy more (Bought 161 shares)\n",
    "- NVDA: Prediction: [[343.79858]] --> current [321.26] buy more (Bought 125 shares)\n",
    "- WMT: Prediction: [[143.4884]] --> Current [135.47] Buy more (Bought 295 shares)\n",
    "- UNH: Prediction: [[441.81848]] --> Current [446.02] ignore\n",
    "- AAPL: Prediction: [[149.93184]] --> Current [163.76] ignore\n",
    "- AMZN: Prediction: [[3475.2175]] --> Current [3437.36] ignore\n",
    "- GOOG: Prediction: [[2667.1052]] --> Current [2875.53] ignore\n",
    "- PFE: Prediction: [[51.94818]] --> current [53.04] ignore\n",
    "\n",
    "\n",
    "*note week 3 did not go as planed could not get data anlysis model to work in time to make trades. Will attempt again for week 4. \n",
    "\n",
    "P/E = Share Price/ Earnings Per Share"
   ]
  },
  {
   "cell_type": "code",
   "execution_count": 16,
   "id": "1fca2e43",
   "metadata": {},
   "outputs": [
    {
     "name": "stdout",
     "output_type": "stream",
     "text": [
      "Requirement already satisfied: mplfinance in c:\\users\\abrah\\anaconda3\\lib\\site-packages (0.12.7a17)\n",
      "Requirement already satisfied: pandas in c:\\users\\abrah\\anaconda3\\lib\\site-packages (from mplfinance) (1.2.4)\n",
      "Requirement already satisfied: matplotlib in c:\\users\\abrah\\anaconda3\\lib\\site-packages (from mplfinance) (3.3.4)\n",
      "Requirement already satisfied: pillow>=6.2.0 in c:\\users\\abrah\\anaconda3\\lib\\site-packages (from matplotlib->mplfinance) (8.2.0)\n",
      "Requirement already satisfied: pyparsing!=2.0.4,!=2.1.2,!=2.1.6,>=2.0.3 in c:\\users\\abrah\\anaconda3\\lib\\site-packages (from matplotlib->mplfinance) (2.4.7)\n",
      "Requirement already satisfied: numpy>=1.15 in c:\\users\\abrah\\anaconda3\\lib\\site-packages (from matplotlib->mplfinance) (1.20.1)\n",
      "Requirement already satisfied: python-dateutil>=2.1 in c:\\users\\abrah\\anaconda3\\lib\\site-packages (from matplotlib->mplfinance) (2.8.1)\n",
      "Requirement already satisfied: cycler>=0.10 in c:\\users\\abrah\\anaconda3\\lib\\site-packages (from matplotlib->mplfinance) (0.10.0)\n",
      "Requirement already satisfied: kiwisolver>=1.0.1 in c:\\users\\abrah\\anaconda3\\lib\\site-packages (from matplotlib->mplfinance) (1.3.1)\n",
      "Requirement already satisfied: six in c:\\users\\abrah\\anaconda3\\lib\\site-packages (from cycler>=0.10->matplotlib->mplfinance) (1.15.0)\n",
      "Requirement already satisfied: pytz>=2017.3 in c:\\users\\abrah\\anaconda3\\lib\\site-packages (from pandas->mplfinance) (2021.1)\n"
     ]
    }
   ],
   "source": [
    "!pip install mplfinance"
   ]
  },
  {
   "cell_type": "code",
   "execution_count": 17,
   "id": "c86e440c",
   "metadata": {},
   "outputs": [],
   "source": [
    "%matplotlib inline\n",
    "import matplotlib\n",
    "import matplotlib.pyplot as plt\n",
    "import io, base64, os, json, re \n",
    "import pandas as pd\n",
    "import numpy as np\n",
    "import mplfinance as mpf\n",
    "import datetime\n",
    "import warnings\n",
    "warnings.filterwarnings('ignore')"
   ]
  },
  {
   "cell_type": "code",
   "execution_count": 18,
   "id": "c46dc5bf",
   "metadata": {},
   "outputs": [
    {
     "data": {
      "text/plain": [
       "[{'date': '2021-01-31',\n",
       "  'symbol': 'WMT',\n",
       "  'reportedCurrency': 'USD',\n",
       "  'cik': '0000104169',\n",
       "  'fillingDate': '2021-03-19',\n",
       "  'acceptedDate': '2021-03-19',\n",
       "  'calendarYear': '2021',\n",
       "  'period': 'FY',\n",
       "  'revenue': 559151000000,\n",
       "  'costOfRevenue': 420315000000,\n",
       "  'grossProfit': 138836000000,\n",
       "  'grossProfitRatio': 0.24829786587165184,\n",
       "  'researchAndDevelopmentExpenses': 0.0,\n",
       "  'generalAndAdministrativeExpenses': 0.0,\n",
       "  'sellingAndMarketingExpenses': 0.0,\n",
       "  'sellingGeneralAndAdministrativeExpenses': 116288000000,\n",
       "  'otherExpenses': 0.0,\n",
       "  'operatingExpenses': 116288000000,\n",
       "  'costAndExpenses': 536603000000,\n",
       "  'interestIncome': 121000000,\n",
       "  'interestExpense': 2315000000,\n",
       "  'depreciationAndAmortization': 11152000000,\n",
       "  'ebitda': 33835000000,\n",
       "  'ebitdaratio': 0.06051138243515616,\n",
       "  'operatingIncome': 22548000000,\n",
       "  'operatingIncomeRatio': 0.03677718541145415,\n",
       "  'totalOtherIncomeExpensesNet': 1984000000,\n",
       "  'incomeBeforeTax': 20564000000,\n",
       "  'incomeBeforeTaxRatio': 0.03677718541145415,\n",
       "  'incomeTaxExpense': 6858000000,\n",
       "  'netIncome': 13510000000,\n",
       "  'netIncomeRatio': 0.024161630758059986,\n",
       "  'eps': 4.77,\n",
       "  'epsdiluted': 4.75,\n",
       "  'weightedAverageShsOut': 2831000000,\n",
       "  'weightedAverageShsOutDil': 2847000000,\n",
       "  'link': 'https://www.sec.gov/Archives/edgar/data/104169/000010416921000033/0000104169-21-000033-index.htm',\n",
       "  'finalLink': 'https://www.sec.gov/Archives/edgar/data/104169/000010416921000033/wmt-20210131.htm'},\n",
       " {'date': '2020-01-31',\n",
       "  'symbol': 'WMT',\n",
       "  'reportedCurrency': 'USD',\n",
       "  'cik': '0000104169',\n",
       "  'fillingDate': '2020-03-20',\n",
       "  'acceptedDate': '2020-03-20',\n",
       "  'calendarYear': '2020',\n",
       "  'period': 'FY',\n",
       "  'revenue': 523964000000,\n",
       "  'costOfRevenue': 394605000000,\n",
       "  'grossProfit': 129359000000,\n",
       "  'grossProfitRatio': 0.24688528219495995,\n",
       "  'researchAndDevelopmentExpenses': 0.0,\n",
       "  'generalAndAdministrativeExpenses': 0.0,\n",
       "  'sellingAndMarketingExpenses': 0.0,\n",
       "  'sellingGeneralAndAdministrativeExpenses': 108791000000,\n",
       "  'otherExpenses': 0.0,\n",
       "  'operatingExpenses': 108791000000,\n",
       "  'costAndExpenses': 503396000000,\n",
       "  'interestIncome': 189000000,\n",
       "  'interestExpense': 2599000000,\n",
       "  'depreciationAndAmortization': 10987000000,\n",
       "  'ebitda': 33382000000,\n",
       "  'ebitdaratio': 0.06371048392637663,\n",
       "  'operatingIncome': 20568000000,\n",
       "  'operatingIncomeRatio': 0.03839195059202541,\n",
       "  'totalOtherIncomeExpensesNet': 452000000,\n",
       "  'incomeBeforeTax': 20116000000,\n",
       "  'incomeBeforeTaxRatio': 0.03839195059202541,\n",
       "  'incomeTaxExpense': 4915000000,\n",
       "  'netIncome': 14881000000,\n",
       "  'netIncomeRatio': 0.02840080616225542,\n",
       "  'eps': 5.22,\n",
       "  'epsdiluted': 5.19,\n",
       "  'weightedAverageShsOut': 2850000000,\n",
       "  'weightedAverageShsOutDil': 2868000000,\n",
       "  'link': 'https://www.sec.gov/Archives/edgar/data/104169/000010416920000011/0000104169-20-000011-index.htm',\n",
       "  'finalLink': 'https://www.sec.gov/ix?doc=/Archives/edgar/data/104169/000010416920000011/wmtform10-kx1312020.htm'},\n",
       " {'date': '2019-01-31',\n",
       "  'symbol': 'WMT',\n",
       "  'reportedCurrency': 'USD',\n",
       "  'cik': '0000104169',\n",
       "  'fillingDate': '2019-03-28',\n",
       "  'acceptedDate': '2019-03-28',\n",
       "  'calendarYear': '2019',\n",
       "  'period': 'FY',\n",
       "  'revenue': 514405000000,\n",
       "  'costOfRevenue': 385301000000,\n",
       "  'grossProfit': 129104000000,\n",
       "  'grossProfitRatio': 0.25097734275522204,\n",
       "  'researchAndDevelopmentExpenses': 0.0,\n",
       "  'generalAndAdministrativeExpenses': 0.0,\n",
       "  'sellingAndMarketingExpenses': 0.0,\n",
       "  'sellingGeneralAndAdministrativeExpenses': 107147000000,\n",
       "  'otherExpenses': 0.0,\n",
       "  'operatingExpenses': 107147000000,\n",
       "  'costAndExpenses': 492448000000,\n",
       "  'interestIncome': 217000000,\n",
       "  'interestExpense': 2346000000,\n",
       "  'depreciationAndAmortization': 10678000000,\n",
       "  'ebitda': 23975000000,\n",
       "  'ebitdaratio': 0.046607245263945725,\n",
       "  'operatingIncome': 21957000000,\n",
       "  'operatingIncomeRatio': 0.02227816603648876,\n",
       "  'totalOtherIncomeExpensesNet': 10497000000,\n",
       "  'incomeBeforeTax': 11460000000,\n",
       "  'incomeBeforeTaxRatio': 0.02227816603648876,\n",
       "  'incomeTaxExpense': 4281000000,\n",
       "  'netIncome': 6670000000,\n",
       "  'netIncomeRatio': 0.012966436951429322,\n",
       "  'eps': 2.28,\n",
       "  'epsdiluted': 2.26,\n",
       "  'weightedAverageShsOut': 2929000000,\n",
       "  'weightedAverageShsOutDil': 2945000000,\n",
       "  'link': 'https://www.sec.gov/Archives/edgar/data/104169/000010416919000016/0000104169-19-000016-index.htm',\n",
       "  'finalLink': 'https://www.sec.gov/Archives/edgar/data/104169/000010416919000016/wmtform10-kx1312019.htm'},\n",
       " {'date': '2018-01-31',\n",
       "  'symbol': 'WMT',\n",
       "  'reportedCurrency': 'USD',\n",
       "  'cik': '0000104169',\n",
       "  'fillingDate': '2018-03-30',\n",
       "  'acceptedDate': '2018-03-30',\n",
       "  'calendarYear': '2018',\n",
       "  'period': 'FY',\n",
       "  'revenue': 500343000000,\n",
       "  'costOfRevenue': 373396000000,\n",
       "  'grossProfit': 126947000000,\n",
       "  'grossProfitRatio': 0.25371994811559273,\n",
       "  'researchAndDevelopmentExpenses': 0.0,\n",
       "  'generalAndAdministrativeExpenses': 0.0,\n",
       "  'sellingAndMarketingExpenses': 0.0,\n",
       "  'sellingGeneralAndAdministrativeExpenses': 106510000000,\n",
       "  'otherExpenses': 0.0,\n",
       "  'operatingExpenses': 106510000000,\n",
       "  'costAndExpenses': 479906000000,\n",
       "  'interestIncome': 152000000,\n",
       "  'interestExpense': 2330000000,\n",
       "  'depreciationAndAmortization': 10529000000,\n",
       "  'ebitda': 27321000000,\n",
       "  'ebitdaratio': 0.05460454128467871,\n",
       "  'operatingIncome': 20437000000,\n",
       "  'operatingIncomeRatio': 0.030225265467889027,\n",
       "  'totalOtherIncomeExpensesNet': 5314000000,\n",
       "  'incomeBeforeTax': 15123000000,\n",
       "  'incomeBeforeTaxRatio': 0.030225265467889027,\n",
       "  'incomeTaxExpense': 4600000000,\n",
       "  'netIncome': 9862000000,\n",
       "  'netIncomeRatio': 0.019710478611672393,\n",
       "  'eps': 3.29,\n",
       "  'epsdiluted': 3.28,\n",
       "  'weightedAverageShsOut': 2995000000,\n",
       "  'weightedAverageShsOutDil': 3010000000,\n",
       "  'link': 'https://www.sec.gov/Archives/edgar/data/104169/000010416918000028/0000104169-18-000028-index.htm',\n",
       "  'finalLink': 'https://www.sec.gov/Archives/edgar/data/104169/000010416918000028/wmtform10-kx1312018.htm'},\n",
       " {'date': '2017-01-31',\n",
       "  'symbol': 'WMT',\n",
       "  'reportedCurrency': 'USD',\n",
       "  'cik': '0000104169',\n",
       "  'fillingDate': '2017-03-31',\n",
       "  'acceptedDate': '2017-03-31',\n",
       "  'calendarYear': '2017',\n",
       "  'period': 'FY',\n",
       "  'revenue': 485873000000,\n",
       "  'costOfRevenue': 361256000000,\n",
       "  'grossProfit': 124617000000,\n",
       "  'grossProfitRatio': 0.25648060295591646,\n",
       "  'researchAndDevelopmentExpenses': 0.0,\n",
       "  'generalAndAdministrativeExpenses': 0.0,\n",
       "  'sellingAndMarketingExpenses': 0.0,\n",
       "  'sellingGeneralAndAdministrativeExpenses': 101853000000,\n",
       "  'otherExpenses': 0.0,\n",
       "  'operatingExpenses': 101853000000,\n",
       "  'costAndExpenses': 463109000000,\n",
       "  'interestIncome': 100000000,\n",
       "  'interestExpense': 2367000000,\n",
       "  'depreciationAndAmortization': 10080000000,\n",
       "  'ebitda': 32294000000,\n",
       "  'ebitdaratio': 0.06646592833929854,\n",
       "  'operatingIncome': 22764000000,\n",
       "  'operatingIncomeRatio': 0.04218592101228099,\n",
       "  'totalOtherIncomeExpensesNet': 2267000000,\n",
       "  'incomeBeforeTax': 20497000000,\n",
       "  'incomeBeforeTaxRatio': 0.04218592101228099,\n",
       "  'incomeTaxExpense': 6204000000,\n",
       "  'netIncome': 13643000000,\n",
       "  'netIncomeRatio': 0.02807935406989069,\n",
       "  'eps': 4.4,\n",
       "  'epsdiluted': 4.38,\n",
       "  'weightedAverageShsOut': 3101000000,\n",
       "  'weightedAverageShsOutDil': 3112000000,\n",
       "  'link': 'https://www.sec.gov/Archives/edgar/data/104169/000010416917000021/0000104169-17-000021-index.htm',\n",
       "  'finalLink': 'https://www.sec.gov/Archives/edgar/data/104169/000010416917000021/wmtform10-kx1312017.htm'}]"
      ]
     },
     "execution_count": 18,
     "metadata": {},
     "output_type": "execute_result"
    }
   ],
   "source": [
    "#Used to test Individual Stocks\n",
    "#Get Data from Financial Modeling Prep.com\n",
    "import requests\n",
    "stock = 'WMT'\n",
    "\n",
    "# access income statements\n",
    "income_statement = requests.get(\"https://financialmodelingprep.com/api/v3/income-statement/\"+ stock + \"?limit=120&apikey=2557fb8efd0ac3cf0644cdfcd76fa8b6\")\n",
    "income_statement = income_statement.json()\n",
    "income_statement"
   ]
  },
  {
   "cell_type": "code",
   "execution_count": 19,
   "id": "fe2ba85a",
   "metadata": {},
   "outputs": [
    {
     "data": {
      "text/plain": [
       "4.77"
      ]
     },
     "execution_count": 19,
     "metadata": {},
     "output_type": "execute_result"
    }
   ],
   "source": [
    "eps = income_statement[0]['eps']\n",
    "eps"
   ]
  },
  {
   "cell_type": "code",
   "execution_count": 20,
   "id": "e54c528a",
   "metadata": {},
   "outputs": [
    {
     "data": {
      "text/plain": [
       "13510000000"
      ]
     },
     "execution_count": 20,
     "metadata": {},
     "output_type": "execute_result"
    }
   ],
   "source": [
    "net_income = income_statement[0]['netIncome']\n",
    "net_income"
   ]
  },
  {
   "cell_type": "code",
   "execution_count": 21,
   "id": "9e765999",
   "metadata": {},
   "outputs": [
    {
     "data": {
      "text/plain": [
       "[{'symbol': 'WMT',\n",
       "  'price': 138.5,\n",
       "  'beta': 0.508571,\n",
       "  'volAvg': 8000541,\n",
       "  'mktCap': 384182386688,\n",
       "  'lastDiv': 2.74,\n",
       "  'range': '126.28-152.57',\n",
       "  'changes': 1.8999939,\n",
       "  'companyName': 'Walmart Inc.',\n",
       "  'currency': 'USD',\n",
       "  'cik': '0000104169',\n",
       "  'isin': 'US9311421039',\n",
       "  'cusip': '931142103',\n",
       "  'exchange': 'New York Stock Exchange',\n",
       "  'exchangeShortName': 'NYSE',\n",
       "  'industry': 'Discount Stores',\n",
       "  'website': 'http://www.stock.walmart.com',\n",
       "  'description': \"Walmart Inc. engages in the retail and wholesale operations in various formats worldwide. The company operates in three segments: Walmart U.S., Walmart International, and Sam's Club. It operates supercenters, supermarkets, hypermarkets, warehouse clubs, cash and carry stores, discount stores, drugstores, and convenience stores; membership-only warehouse clubs; ecommerce websites, such as walmart.com, walmart.com.mx, asda.com, walmart.ca, flipkart.com, and samsclub.com; and mobile commerce applications. The company offers grocery products, including meat, produce, natural and organics, deli and bakery, dairy, frozen foods, alcoholic and nonalcoholic beverages, and floral and dry grocery, as well as consumables, such as health and beauty aids, baby products, household chemicals, paper goods, and pet supplies; and health and wellness products. It also provides electronics, cameras and supplies, photo processing services, wireless, movies, music, video games, and books; stationery, automotive, hardware and paint, sporting goods, and outdoor living and horticulture; apparel for women, girls, men, boys, and infants, as well as shoes, jewelry, and accessories; and home furnishings, housewares and small appliances, bedding, home decor, toys, fabrics, crafts, and seasonal merchandise, as well as brand name merchandise. In addition, the company offers fuel and financial services and related products, including money orders, prepaid cards, money transfers, check cashing, and bill payment. It operates approximately 11,500 stores and various e-commerce Websites under the 56 banners in 27 countries. The company was formerly known as Wal-Mart Stores, Inc. and changed its name to Walmart Inc. in February 2018. Walmart Inc. was founded in 1945 and is based in Bentonville, Arkansas.\",\n",
       "  'ceo': 'Mr. C. Douglas McMillon',\n",
       "  'sector': 'Consumer Defensive',\n",
       "  'country': 'US',\n",
       "  'fullTimeEmployees': '2300000',\n",
       "  'phone': '14792734000',\n",
       "  'address': '702 SW 8th St',\n",
       "  'city': 'Bentonville',\n",
       "  'state': 'ARKANSAS',\n",
       "  'zip': '72716',\n",
       "  'dcfDiff': -87.49,\n",
       "  'dcf': 143.381,\n",
       "  'image': 'https://financialmodelingprep.com/image-stock/WMT.png',\n",
       "  'ipoDate': '1972-08-25',\n",
       "  'defaultImage': False,\n",
       "  'isEtf': False,\n",
       "  'isActivelyTrading': True,\n",
       "  'isAdr': False,\n",
       "  'isFund': False}]"
      ]
     },
     "execution_count": 21,
     "metadata": {},
     "output_type": "execute_result"
    }
   ],
   "source": [
    "# access company profile\n",
    "profile = requests.get(\"https://financialmodelingprep.com/api/v3/profile/\"+ stock +\"?apikey=2557fb8efd0ac3cf0644cdfcd76fa8b6\" )\n",
    "profile = profile.json()\n",
    "profile"
   ]
  },
  {
   "cell_type": "code",
   "execution_count": 22,
   "id": "5c57593e",
   "metadata": {},
   "outputs": [
    {
     "data": {
      "text/plain": [
       "138.5"
      ]
     },
     "execution_count": 22,
     "metadata": {},
     "output_type": "execute_result"
    }
   ],
   "source": [
    "price = profile[0]['price']\n",
    "price"
   ]
  },
  {
   "cell_type": "code",
   "execution_count": 23,
   "id": "5e34a752",
   "metadata": {},
   "outputs": [
    {
     "data": {
      "text/plain": [
       "29.035639412997906"
      ]
     },
     "execution_count": 23,
     "metadata": {},
     "output_type": "execute_result"
    }
   ],
   "source": [
    "p_e_ratio = float(price)/float(eps)\n",
    "p_e_ratio"
   ]
  },
  {
   "cell_type": "code",
   "execution_count": 24,
   "id": "79570036",
   "metadata": {},
   "outputs": [],
   "source": [
    "#Check 50 Companies\n",
    "# stocks of the NASDAQ\n",
    "nas_symbols = pd.read_csv('nasdaq_100.csv', sep='\\t')\n",
    "\n",
    "companies = ['AAPL','MSFT','GOOG','GOOGL','AMZN','TSLA','FB','NVDA','TSM','JPM',\n",
    "             'V','HD','JNJ','UNH','ADI','BAC','WMT','BABA','GME','PG',\n",
    "             'MA','ADBE','NFLX','NTES','CRM','PFE','DIS','NKE','XOM','NVO',\n",
    "             'ORCL','TM','TMO','LLY','CMCSA','KO','AMC','PYPL','RIVN','COST',\n",
    "             'CSCO','PEP','ABT','DHR','CVX','VZ','SHOP','MRK','QCOM','ABBV']\n"
   ]
  },
  {
   "cell_type": "code",
   "execution_count": 25,
   "id": "edafbb07",
   "metadata": {},
   "outputs": [
    {
     "name": "stdout",
     "output_type": "stream",
     "text": [
      "AAPL\n",
      "P/E: 30.79\n",
      "MSFT\n",
      "P/E: 41.02\n",
      "GOOG\n",
      "P/E: 50.08\n",
      "GOOGL\n",
      "P/E: 49.92\n",
      "AMZN\n",
      "P/E: 81.69\n",
      "TSLA\n",
      "P/E: 1356.49\n",
      "FB\n",
      "P/E: 32.27\n",
      "NVDA\n",
      "P/E: 173.73\n",
      "TSM\n",
      "P/E: 1.2\n",
      "JPM\n",
      "P/E: 18.05\n",
      "V\n",
      "P/E: 37.55\n",
      "HD\n",
      "P/E: 34.34\n",
      "JNJ\n",
      "P/E: 29.68\n",
      "UNH\n",
      "P/E: 29.13\n",
      "ADI\n",
      "P/E: 48.68\n",
      "BAC\n",
      "P/E: 23.66\n",
      "WMT\n",
      "P/E: 29.04\n",
      "BABA\n",
      "P/E: 2.23\n",
      "GME\n",
      "P/E: -47.06\n",
      "PG\n",
      "P/E: 26.95\n",
      "MA\n",
      "P/E: 53.83\n",
      "ADBE\n",
      "P/E: 57.82\n",
      "NFLX\n",
      "P/E: 97.6\n",
      "NTES\n",
      "P/E: 5.66\n",
      "CRM\n",
      "P/E: 59.0\n",
      "PFE\n",
      "P/E: 30.1\n",
      "DIS\n",
      "P/E: 110.91\n",
      "NKE\n",
      "P/E: 46.18\n",
      "XOM\n",
      "P/E: -11.81\n",
      "NVO\n",
      "P/E: 6.29\n",
      "ORCL\n",
      "P/E: 19.01\n",
      "TM\n",
      "P/E: 0.11\n",
      "TMO\n",
      "P/E: 39.59\n",
      "LLY\n",
      "P/E: 37.51\n",
      "CMCSA\n",
      "P/E: 20.79\n",
      "KO\n",
      "P/E: 30.48\n",
      "AMC\n",
      "P/E: -0.67\n",
      "PYPL\n",
      "P/E: 53.56\n",
      "RIVN\n",
      "P/E: -33.26\n",
      "COST\n",
      "P/E: 46.4\n",
      "CSCO\n",
      "P/E: 23.02\n",
      "PEP\n",
      "P/E: 32.23\n",
      "ABT\n",
      "P/E: 52.22\n",
      "DHR\n",
      "P/E: 64.24\n",
      "CVX\n",
      "P/E: -39.91\n",
      "VZ\n",
      "P/E: 11.67\n",
      "SHOP\n",
      "P/E: 559.91\n",
      "MRK\n",
      "P/E: 26.09\n",
      "QCOM\n",
      "P/E: 22.81\n",
      "ABBV\n",
      "P/E: 47.47\n"
     ]
    }
   ],
   "source": [
    "import time\n",
    "\n",
    "pe_ratios = []\n",
    "for symbol in companies:\n",
    "    print(symbol)\n",
    "    \n",
    "    # access income statements\n",
    "    income_statement = requests.get(\"https://financialmodelingprep.com/api/v3/income-statement/\"+ symbol + \"?limit=120&apikey=2557fb8efd0ac3cf0644cdfcd76fa8b6\" )\n",
    "    income_statement = income_statement.json()\n",
    "    net_income = income_statement[0]['netIncome']\n",
    "    eps = income_statement[0]['eps']\n",
    "    \n",
    "    \n",
    "    # access company profile\n",
    "    profile = requests.get(\"https://financialmodelingprep.com/api/v3/profile/\"+ symbol +\"?apikey=2557fb8efd0ac3cf0644cdfcd76fa8b6\" )\n",
    "    profile = profile.json()\n",
    "    price = profile[0]['price']\n",
    "    \n",
    "    if eps != '' and price !='':\n",
    "        print('P/E:', np.round(float(price)/float(eps),2))\n",
    "        \n",
    "    else:\n",
    "        print('Missing fundamental data')\n",
    "        \n",
    "\n",
    "    \n",
    "    # be a good netizen\n",
    "    time.sleep(1)\n",
    "     "
   ]
  },
  {
   "cell_type": "markdown",
   "id": "0e99ea83",
   "metadata": {},
   "source": [
    "# Stocks with Good P/E Ratios\n",
    "\n",
    "- UNH: P/E: 27.65 --> BUY\n",
    "- HD: HD P/E: 34.04 --> BUY\n",
    "\n",
    "# Stock with BAD P/E Ratios\n",
    "- RIVN (P/E: -30.16) --> SELL (ALL)\n",
    "    - possible because its a new stock\n",
    "- NVDA (P/E: 174.89) --> SELL (To High)"
   ]
  },
  {
   "cell_type": "markdown",
   "id": "2f1cb644",
   "metadata": {},
   "source": [
    "# Week 4\n",
    "- Combine all strategies for the stocks that I am invested in. \n",
    "\n",
    "### Rules\n",
    "- News API ranking out of 50 other stocks (1.0 -- 0.0)\n",
    "- Projected Closing Cost (1 (higher) -- 0 (lower))\n",
    "    - .5 is mid point\n",
    "    - Negative price prediction will be less than .5\n",
    "    - Positive price prediction will be more than .5\n",
    "    - Based on percentage Difference in Current and Projected Price\n",
    "- P/E (1 (good) -- 0 (bad)\n",
    "    - Good P/E is between 20 to 30\n",
    "    - formula for points\n",
    "        - 1 - ( (25- P/E) / P/E )\n",
    "- Average the 3 scores. \n",
    "    - If score > .7 buy\n",
    "    - if score < .7 and score > .5 keep\n",
    "    - if score < .5 sell"
   ]
  },
  {
   "cell_type": "code",
   "execution_count": 52,
   "id": "6bd42f45",
   "metadata": {},
   "outputs": [
    {
     "name": "stdout",
     "output_type": "stream",
     "text": [
      "0.7432933333333334\n"
     ]
    }
   ],
   "source": [
    "# Stock (FB)\n",
    "\n",
    "news_api_score = 1\n",
    "projected_closing_cost = .45518\n",
    "P_E_Score = .7747\n",
    "\n",
    "total = (news_api_score + projected_closing_cost + P_E_Score) / 3\n",
    "print(total)"
   ]
  },
  {
   "cell_type": "code",
   "execution_count": 55,
   "id": "297433de",
   "metadata": {},
   "outputs": [
    {
     "name": "stdout",
     "output_type": "stream",
     "text": [
      "0.41672\n"
     ]
    }
   ],
   "source": [
    "# Stock (HD)\n",
    "\n",
    "news_api_score = 0.081\n",
    "projected_closing_cost = .44116\n",
    "P_E_Score = .7280\n",
    "\n",
    "total = (news_api_score + projected_closing_cost + P_E_Score) / 3\n",
    "print(total)"
   ]
  },
  {
   "cell_type": "code",
   "execution_count": 53,
   "id": "3e1a68f9",
   "metadata": {},
   "outputs": [
    {
     "name": "stdout",
     "output_type": "stream",
     "text": [
      "0.7652666666666667\n"
     ]
    }
   ],
   "source": [
    "# Stock (UNH)\n",
    "\n",
    "news_api_score = 0.938\n",
    "projected_closing_cost = .4996\n",
    "P_E_Score = .8582\n",
    "\n",
    "total = (news_api_score + projected_closing_cost + P_E_Score) / 3\n",
    "print(total)"
   ]
  },
  {
   "cell_type": "code",
   "execution_count": 54,
   "id": "2e4ffb04",
   "metadata": {},
   "outputs": [
    {
     "name": "stdout",
     "output_type": "stream",
     "text": [
      "0.6662333333333333\n"
     ]
    }
   ],
   "source": [
    "# Stock (WMT)\n",
    "\n",
    "news_api_score = 0.632\n",
    "projected_closing_cost = .5058\n",
    "P_E_Score = .8609\n",
    "\n",
    "total = (news_api_score + projected_closing_cost + P_E_Score) / 3\n",
    "print(total)"
   ]
  },
  {
   "cell_type": "code",
   "execution_count": 70,
   "id": "3d4bb4ba",
   "metadata": {},
   "outputs": [
    {
     "name": "stdout",
     "output_type": "stream",
     "text": [
      "0.7238333333333333\n"
     ]
    }
   ],
   "source": [
    "# Stock (AAPL)\n",
    "\n",
    "news_api_score = 0.979\n",
    "projected_closing_cost = .3805\n",
    "P_E_Score = .8120\n",
    "\n",
    "total = (news_api_score + projected_closing_cost + P_E_Score) / 3\n",
    "print(total)"
   ]
  },
  {
   "cell_type": "markdown",
   "id": "f23f5491",
   "metadata": {},
   "source": [
    "# Week 4 Trades\n",
    "- FB --> Buy\n",
    "- HD --> Sell\n",
    "- UNH --> Buy\n",
    "- WMT --> Hold\n",
    "- AAPL --> BUY"
   ]
  },
  {
   "cell_type": "code",
   "execution_count": null,
   "id": "ea0f6c51",
   "metadata": {},
   "outputs": [],
   "source": []
  }
 ],
 "metadata": {
  "kernelspec": {
   "display_name": "Python 3",
   "language": "python",
   "name": "python3"
  },
  "language_info": {
   "codemirror_mode": {
    "name": "ipython",
    "version": 3
   },
   "file_extension": ".py",
   "mimetype": "text/x-python",
   "name": "python",
   "nbconvert_exporter": "python",
   "pygments_lexer": "ipython3",
   "version": "3.8.8"
  }
 },
 "nbformat": 4,
 "nbformat_minor": 5
}
