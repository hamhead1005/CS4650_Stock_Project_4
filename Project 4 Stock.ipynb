{
 "cells": [
  {
   "cell_type": "markdown",
   "id": "dcc5a2d9",
   "metadata": {},
   "source": [
    "# Overall Strategy\n",
    "- Use newsAPI to find companies that are trending (week 1)\n",
    "- Use kaggle dataset to find patterns in stock trades (week 2)\n",
    "- (week 3)\n",
    "- Combine all strategies to make estimates on stocks that should be invested in.\n",
    "\n",
    "*notes: using NASDAQ*\n",
    "\n",
    "### Week 1\n",
    "\n",
    "- NewsApi will search for articles that include the stock ticker\n",
    "- Based on article count we know which companies are being talked about more\n",
    "    - Hopefully in a good way (Will hopefully adjust for this later)\n",
    "- Using top 50 Companies based on Market Cap\n",
    "- Output includes company name + Article count\n",
    "- Based on this we can invest in the companies being talked about the most."
   ]
  },
  {
   "cell_type": "code",
   "execution_count": 47,
   "id": "16d080bd",
   "metadata": {
    "scrolled": true
   },
   "outputs": [
    {
     "name": "stdout",
     "output_type": "stream",
     "text": [
      "Requirement already satisfied: spacy in c:\\users\\abrah\\anaconda3\\lib\\site-packages (3.2.0)\n",
      "Requirement already satisfied: preshed<3.1.0,>=3.0.2 in c:\\users\\abrah\\anaconda3\\lib\\site-packages (from spacy) (3.0.6)\n",
      "Requirement already satisfied: numpy>=1.15.0 in c:\\users\\abrah\\anaconda3\\lib\\site-packages (from spacy) (1.20.1)\n",
      "Requirement already satisfied: thinc<8.1.0,>=8.0.12 in c:\\users\\abrah\\anaconda3\\lib\\site-packages (from spacy) (8.0.13)\n",
      "Requirement already satisfied: srsly<3.0.0,>=2.4.1 in c:\\users\\abrah\\anaconda3\\lib\\site-packages (from spacy) (2.4.2)\n",
      "Requirement already satisfied: jinja2 in c:\\users\\abrah\\anaconda3\\lib\\site-packages (from spacy) (2.11.3)\n",
      "Requirement already satisfied: catalogue<2.1.0,>=2.0.6 in c:\\users\\abrah\\anaconda3\\lib\\site-packages (from spacy) (2.0.6)\n",
      "Requirement already satisfied: spacy-legacy<3.1.0,>=3.0.8 in c:\\users\\abrah\\anaconda3\\lib\\site-packages (from spacy) (3.0.8)\n",
      "Requirement already satisfied: langcodes<4.0.0,>=3.2.0 in c:\\users\\abrah\\anaconda3\\lib\\site-packages (from spacy) (3.3.0)\n",
      "Requirement already satisfied: murmurhash<1.1.0,>=0.28.0 in c:\\users\\abrah\\anaconda3\\lib\\site-packages (from spacy) (1.0.6)\n",
      "Requirement already satisfied: wasabi<1.1.0,>=0.8.1 in c:\\users\\abrah\\anaconda3\\lib\\site-packages (from spacy) (0.8.2)\n",
      "Requirement already satisfied: cymem<2.1.0,>=2.0.2 in c:\\users\\abrah\\anaconda3\\lib\\site-packages (from spacy) (2.0.6)\n",
      "Requirement already satisfied: spacy-loggers<2.0.0,>=1.0.0 in c:\\users\\abrah\\anaconda3\\lib\\site-packages (from spacy) (1.0.1)\n",
      "Requirement already satisfied: typer<0.5.0,>=0.3.0 in c:\\users\\abrah\\anaconda3\\lib\\site-packages (from spacy) (0.4.0)\n",
      "Requirement already satisfied: pydantic!=1.8,!=1.8.1,<1.9.0,>=1.7.4 in c:\\users\\abrah\\anaconda3\\lib\\site-packages (from spacy) (1.8.2)\n",
      "Requirement already satisfied: blis<0.8.0,>=0.4.0 in c:\\users\\abrah\\anaconda3\\lib\\site-packages (from spacy) (0.7.5)\n",
      "Requirement already satisfied: packaging>=20.0 in c:\\users\\abrah\\anaconda3\\lib\\site-packages (from spacy) (20.9)\n",
      "Requirement already satisfied: requests<3.0.0,>=2.13.0 in c:\\users\\abrah\\anaconda3\\lib\\site-packages (from spacy) (2.25.1)\n",
      "Requirement already satisfied: pathy>=0.3.5 in c:\\users\\abrah\\anaconda3\\lib\\site-packages (from spacy) (0.6.1)\n",
      "Requirement already satisfied: tqdm<5.0.0,>=4.38.0 in c:\\users\\abrah\\anaconda3\\lib\\site-packages (from spacy) (4.59.0)\n",
      "Requirement already satisfied: setuptools in c:\\users\\abrah\\anaconda3\\lib\\site-packages (from spacy) (52.0.0.post20210125)\n",
      "Requirement already satisfied: pyparsing>=2.0.2 in c:\\users\\abrah\\anaconda3\\lib\\site-packages (from packaging>=20.0->spacy) (2.4.7)\n",
      "Requirement already satisfied: smart-open<6.0.0,>=5.0.0 in c:\\users\\abrah\\anaconda3\\lib\\site-packages (from pathy>=0.3.5->spacy) (5.2.1)\n",
      "Requirement already satisfied: typing-extensions>=3.7.4.3 in c:\\users\\abrah\\anaconda3\\lib\\site-packages (from pydantic!=1.8,!=1.8.1,<1.9.0,>=1.7.4->spacy) (3.7.4.3)\n",
      "Requirement already satisfied: idna<3,>=2.5 in c:\\users\\abrah\\anaconda3\\lib\\site-packages (from requests<3.0.0,>=2.13.0->spacy) (2.10)\n",
      "Requirement already satisfied: chardet<5,>=3.0.2 in c:\\users\\abrah\\anaconda3\\lib\\site-packages (from requests<3.0.0,>=2.13.0->spacy) (4.0.0)\n",
      "Requirement already satisfied: certifi>=2017.4.17 in c:\\users\\abrah\\anaconda3\\lib\\site-packages (from requests<3.0.0,>=2.13.0->spacy) (2020.12.5)\n",
      "Requirement already satisfied: urllib3<1.27,>=1.21.1 in c:\\users\\abrah\\anaconda3\\lib\\site-packages (from requests<3.0.0,>=2.13.0->spacy) (1.26.4)\n",
      "Requirement already satisfied: click<9.0.0,>=7.1.1 in c:\\users\\abrah\\anaconda3\\lib\\site-packages (from typer<0.5.0,>=0.3.0->spacy) (7.1.2)\n",
      "Requirement already satisfied: MarkupSafe>=0.23 in c:\\users\\abrah\\anaconda3\\lib\\site-packages (from jinja2->spacy) (1.1.1)\n",
      "Requirement already satisfied: newsapi-python in c:\\users\\abrah\\anaconda3\\lib\\site-packages (0.2.6)\n",
      "Requirement already satisfied: requests<3.0.0 in c:\\users\\abrah\\anaconda3\\lib\\site-packages (from newsapi-python) (2.25.1)\n",
      "Requirement already satisfied: urllib3<1.27,>=1.21.1 in c:\\users\\abrah\\anaconda3\\lib\\site-packages (from requests<3.0.0->newsapi-python) (1.26.4)\n",
      "Requirement already satisfied: certifi>=2017.4.17 in c:\\users\\abrah\\anaconda3\\lib\\site-packages (from requests<3.0.0->newsapi-python) (2020.12.5)\n",
      "Requirement already satisfied: idna<3,>=2.5 in c:\\users\\abrah\\anaconda3\\lib\\site-packages (from requests<3.0.0->newsapi-python) (2.10)\n",
      "Requirement already satisfied: chardet<5,>=3.0.2 in c:\\users\\abrah\\anaconda3\\lib\\site-packages (from requests<3.0.0->newsapi-python) (4.0.0)\n",
      "Requirement already satisfied: fsspec in c:\\users\\abrah\\anaconda3\\lib\\site-packages (0.9.0)\n"
     ]
    }
   ],
   "source": [
    "!pip install spacy\n",
    "!pip install newsapi-python\n",
    "!pip install fsspec"
   ]
  },
  {
   "cell_type": "code",
   "execution_count": 2,
   "id": "cb700ef8",
   "metadata": {},
   "outputs": [],
   "source": [
    "#import libraries\n",
    "from newsapi import NewsApiClient\n",
    "import pandas as pd\n",
    "import json\n",
    "import csv\n",
    "\n",
    "# top 50 traded Companies by Market CAP\n",
    "# Limited to 50 since API only allows 100 request perday with free account\n",
    "companies = ['Apple','Microsoft','Google','Alphabet','Amazon','Tesla','Facebook','Nvidia','Taiwan Semiconductor','JP Morgan',\n",
    "             'Visa','Home Depot','Johnson & Johnson','United Health','ADI','Bank of America','Walmart','Alibaba','ASML Holding','Procter & Gamble',\n",
    "             'Mastercard','Adobe','Netflix','NTES','CRM','Pfizer','Disney','Nike','Exxon','Novo',\n",
    "             'Oracle','Toyota','Thermo','Eli Lilly','Comcast','Coca-Cola','Broadcom','Paypal','Accenture','Costco',\n",
    "             'Cisco','PEPSI','Abbott Laboratories','Danaher','Chevron','Verizon','Shopify','Merck & Company','Qualcomm','AbbVie']\n",
    "\n",
    "#Used for testing (ignore)\n",
    "test_companies = ['AAPL','PEPSI','TSLA']\n",
    "\n",
    "#Init\n",
    "newsapi = NewsApiClient(api_key='3d686c6061544a769dc94c28e169ed08')"
   ]
  },
  {
   "cell_type": "code",
   "execution_count": 3,
   "id": "f14e665b",
   "metadata": {
    "scrolled": true
   },
   "outputs": [
    {
     "ename": "NewsAPIException",
     "evalue": "{'status': 'error', 'code': 'rateLimited', 'message': 'You have made too many requests recently. Developer accounts are limited to 100 requests over a 24 hour period (50 requests available every 12 hours). Please upgrade to a paid plan if you need more requests.'}",
     "output_type": "error",
     "traceback": [
      "\u001b[1;31m---------------------------------------------------------------------------\u001b[0m",
      "\u001b[1;31mNewsAPIException\u001b[0m                          Traceback (most recent call last)",
      "\u001b[1;32m<ipython-input-3-42a546ab5c1d>\u001b[0m in \u001b[0;36m<module>\u001b[1;34m\u001b[0m\n\u001b[0;32m      4\u001b[0m     \u001b[1;31m#used to filter searches that mention the stock market in realtion to company\u001b[0m\u001b[1;33m\u001b[0m\u001b[1;33m\u001b[0m\u001b[1;33m\u001b[0m\u001b[0m\n\u001b[0;32m      5\u001b[0m     \u001b[0mq\u001b[0m \u001b[1;33m=\u001b[0m \u001b[0mcompanies\u001b[0m\u001b[1;33m[\u001b[0m\u001b[0mx\u001b[0m\u001b[1;33m]\u001b[0m\u001b[1;33m+\u001b[0m\u001b[1;34m' NASDAQ'\u001b[0m\u001b[1;33m\u001b[0m\u001b[1;33m\u001b[0m\u001b[0m\n\u001b[1;32m----> 6\u001b[1;33m     data = newsapi.get_everything(q=q,from_param='2021-11-12',\n\u001b[0m\u001b[0;32m      7\u001b[0m                                       to='2021-11-18', language='en', page_size=0)\n\u001b[0;32m      8\u001b[0m     \u001b[0marticle_results\u001b[0m\u001b[1;33m.\u001b[0m\u001b[0mappend\u001b[0m\u001b[1;33m(\u001b[0m\u001b[0mdata\u001b[0m\u001b[1;33m[\u001b[0m\u001b[1;34m'totalResults'\u001b[0m\u001b[1;33m]\u001b[0m\u001b[1;33m)\u001b[0m\u001b[1;33m\u001b[0m\u001b[1;33m\u001b[0m\u001b[0m\n",
      "\u001b[1;32m~\\anaconda3\\lib\\site-packages\\newsapi\\newsapi_client.py\u001b[0m in \u001b[0;36mget_everything\u001b[1;34m(self, q, qintitle, sources, domains, exclude_domains, from_param, to, language, sort_by, page, page_size)\u001b[0m\n\u001b[0;32m    324\u001b[0m         \u001b[1;31m# Check Status of Request\u001b[0m\u001b[1;33m\u001b[0m\u001b[1;33m\u001b[0m\u001b[1;33m\u001b[0m\u001b[0m\n\u001b[0;32m    325\u001b[0m         \u001b[1;32mif\u001b[0m \u001b[0mr\u001b[0m\u001b[1;33m.\u001b[0m\u001b[0mstatus_code\u001b[0m \u001b[1;33m!=\u001b[0m \u001b[0mrequests\u001b[0m\u001b[1;33m.\u001b[0m\u001b[0mcodes\u001b[0m\u001b[1;33m.\u001b[0m\u001b[0mok\u001b[0m\u001b[1;33m:\u001b[0m\u001b[1;33m\u001b[0m\u001b[1;33m\u001b[0m\u001b[0m\n\u001b[1;32m--> 326\u001b[1;33m             \u001b[1;32mraise\u001b[0m \u001b[0mNewsAPIException\u001b[0m\u001b[1;33m(\u001b[0m\u001b[0mr\u001b[0m\u001b[1;33m.\u001b[0m\u001b[0mjson\u001b[0m\u001b[1;33m(\u001b[0m\u001b[1;33m)\u001b[0m\u001b[1;33m)\u001b[0m\u001b[1;33m\u001b[0m\u001b[1;33m\u001b[0m\u001b[0m\n\u001b[0m\u001b[0;32m    327\u001b[0m \u001b[1;33m\u001b[0m\u001b[0m\n\u001b[0;32m    328\u001b[0m         \u001b[1;32mreturn\u001b[0m \u001b[0mr\u001b[0m\u001b[1;33m.\u001b[0m\u001b[0mjson\u001b[0m\u001b[1;33m(\u001b[0m\u001b[1;33m)\u001b[0m\u001b[1;33m\u001b[0m\u001b[1;33m\u001b[0m\u001b[0m\n",
      "\u001b[1;31mNewsAPIException\u001b[0m: {'status': 'error', 'code': 'rateLimited', 'message': 'You have made too many requests recently. Developer accounts are limited to 100 requests over a 24 hour period (50 requests available every 12 hours). Please upgrade to a paid plan if you need more requests.'}"
     ]
    }
   ],
   "source": [
    "article_results = []\n",
    "\n",
    "for x in range(50):\n",
    "    #used to filter searches that mention the stock market in realtion to company\n",
    "    q = companies[x]+' NASDAQ'\n",
    "    data = newsapi.get_everything(q=q,from_param='2021-11-12',\n",
    "                                      to='2021-11-18', language='en', page_size=0)\n",
    "    article_results.append(data['totalResults'])\n",
    "\n",
    "list_of_results = list(zip(companies, article_results))\n",
    "df = pd.DataFrame(list_of_results, columns = ['company','results'])\n",
    "df.sort_values('results')\n",
    "print(df)"
   ]
  },
  {
   "cell_type": "code",
   "execution_count": 125,
   "id": "85244c2b",
   "metadata": {},
   "outputs": [],
   "source": [
    "df.to_excel(\"output.xlsx\")"
   ]
  },
  {
   "cell_type": "markdown",
   "id": "a24d93f9",
   "metadata": {},
   "source": [
    "# Results from Day 1\n",
    " I ajdusted the names to be the full name. Just using the stock ticker name produced very little results for some. And some tickers produced un-realted results\n",
    "\n",
    "# List\n",
    "<img src=\"files/image.png\">\n",
    "\n",
    "# Data\n",
    "<img src=\"files/avg.png\">\n",
    "\n",
    "### Stock Buys\n",
    "- Facebook had the most hits with 1999 \n",
    "    - Bought 30k shares 11/18/21 (Pre-market)\n",
    "- Tesla had 2 most with 1183\n",
    "    - Bought 20k shares 11/18/21 (Pre-Market)\n",
    "- United Health was 3rd with 1041\n",
    "    - Bought 10k shares 11/18/21 (Pre-Market)"
   ]
  },
  {
   "cell_type": "markdown",
   "id": "c5f6e63f",
   "metadata": {},
   "source": [
    "## Results after day 1\n",
    "- My total gain is 2.58"
   ]
  },
  {
   "cell_type": "code",
   "execution_count": null,
   "id": "9f143303",
   "metadata": {},
   "outputs": [],
   "source": []
  }
 ],
 "metadata": {
  "kernelspec": {
   "display_name": "Python 3",
   "language": "python",
   "name": "python3"
  },
  "language_info": {
   "codemirror_mode": {
    "name": "ipython",
    "version": 3
   },
   "file_extension": ".py",
   "mimetype": "text/x-python",
   "name": "python",
   "nbconvert_exporter": "python",
   "pygments_lexer": "ipython3",
   "version": "3.8.8"
  }
 },
 "nbformat": 4,
 "nbformat_minor": 5
}
